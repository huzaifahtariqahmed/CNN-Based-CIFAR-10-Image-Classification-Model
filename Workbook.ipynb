{
  "cells": [
    {
      "cell_type": "markdown",
      "metadata": {
        "id": "view-in-github",
        "colab_type": "text"
      },
      "source": [
        "<a href=\"https://colab.research.google.com/github/huzaifahtariqahmed/CNN-Based-CIFAR-10-Image-Classification-Model/blob/main/Workbook.ipynb\" target=\"_parent\"><img src=\"https://colab.research.google.com/assets/colab-badge.svg\" alt=\"Open In Colab\"/></a>"
      ]
    },
    {
      "cell_type": "markdown",
      "source": [
        "# Lab 7: Image Classification using a Convolutional Neural Network (CNN)"
      ],
      "metadata": {
        "id": "yF550L19h0na"
      }
    },
    {
      "cell_type": "markdown",
      "source": [
        "<a name=\"toc_40291_2\"></a>\n",
        "# Objective"
      ],
      "metadata": {
        "id": "ssXWkQRKUgi9"
      }
    },
    {
      "cell_type": "markdown",
      "source": [
        "\n",
        "\n",
        "In this Lab we are going to classify a new set of images in 10 classes (multi-class classification) using a Convolutional Neural Network (CCN).\n",
        "The CIFAR-10 dataset consists of 60,000 colour images in 10 classes. Each class has 6,000 images. There are 10 different classes of objects. All the images have a size of 32x32 pixels. You can see examples of the images in this dataset in fig 1.\n",
        "\n",
        "\n",
        "\n",
        "<div>\n",
        "<img src=\"https://drive.google.com/uc?export=view&id=1UF0myb6ed9Mzgf2-rGUbfHUFrUDYQ5dh\" width=\"600\"/>\n",
        "</div>\n",
        "\n",
        "\n",
        "To classify these objects, we are going to do the following steps:\n",
        "\n",
        "•\tCreate a Convolutional Neural Network (CNN) and train it to be able to classify these images.\n",
        "\n",
        "•\tTest your model performance using validation metrics\n",
        "\n"
      ],
      "metadata": {
        "id": "lvCRJCVnUTZz"
      }
    },
    {
      "cell_type": "markdown",
      "metadata": {
        "id": "PyMYPPdtccYn"
      },
      "source": [
        "# Environment set up"
      ]
    },
    {
      "cell_type": "markdown",
      "source": [
        "For this lab we are going to use Python as our programming language and Keras from Tensorflow as our machine learning platform. You can use Keras documentation from https://keras.io/  for extra help."
      ],
      "metadata": {
        "id": "TlB_dKEkUxrS"
      }
    },
    {
      "cell_type": "markdown",
      "source": [
        "# Importing libraries and data pre-processing"
      ],
      "metadata": {
        "id": "88qfwPo3U56J"
      }
    },
    {
      "cell_type": "markdown",
      "source": [
        "To start, load your dataset into train and test sets and create your validation set by spliiting your train data.  \n",
        "\n",
        "\n",
        "*   Print the shape of the first image in the training set.\n",
        "\n",
        "If you check the shape of your y_train and y_test you will notice that they are 2-dimensional arrays. We need to flatten these arrays to 1 dimension before using them. Implement the following steps:\n",
        "\n",
        "\n",
        "\n",
        "1.   Load the **Cifar10** dataset using **.load_data**. Note that you have\n",
        "already imported **cifar10** from **keras.datasets**. You can view what this function returns [here](https://keras.io/api/datasets/cifar10/#load_data-function).\n",
        "2. Shuffle **x_train** and **y_train** using **shuffle**.\n",
        "3.   To standardize the data, rescale **x_train** and **x_test** from range **0-255** to range **0-1**.\n",
        "4. Split your train data into train and validation data using **train_test_split()**. We want the training data to be 80% of our dataset.\n",
        "5.  \tDefine a new variable for the number of the classes (in this case we have 10 classes).\n",
        "6.  \tOne-hot encode **y_train**, **y_val** and **y_test** using **to_categorical** function (import it from keras.utils). One0hot encoding essentially ensures that our model does not assume that higher numbers are more important. So, if you try printing **y_train**, you will observe that it gives a numerical label to each of the training image and does not assign any degree of importance. To avoid this, we use hot encoding to conver catogorical data into vectors for each of the image containing 1s and 0s. For a better understanding, you can watch [this](https://www.youtube.com/watch?v=v_4KWmkwmsU) video on one-hot encoding.\n",
        "\n",
        "\n",
        "\n",
        "\n",
        "\n"
      ],
      "metadata": {
        "id": "sJ1fSsbBU8ZQ"
      }
    },
    {
      "cell_type": "code",
      "source": [
        "import numpy as np\n",
        "from tensorflow import keras\n",
        "from sklearn.metrics import confusion_matrix\n",
        "import itertools\n",
        "import matplotlib.pyplot as plt\n",
        "from keras.datasets import cifar10\n",
        "from keras.layers import Conv2D,Flatten,Dense,MaxPooling2D,Dropout,BatchNormalization\n",
        "from sklearn.model_selection import train_test_split\n",
        "from sklearn.utils import shuffle\n",
        "from keras.utils import to_categorical\n",
        "from keras import layers, models, losses"
      ],
      "metadata": {
        "id": "3gnuhKaHL24n"
      },
      "execution_count": 56,
      "outputs": []
    },
    {
      "cell_type": "code",
      "source": [
        "#load cifar10 dataset here #_________TODO_________\n",
        "(x_train, y_train), (x_test, y_test) = cifar10.load_data()"
      ],
      "metadata": {
        "id": "wqb1JI6JL5RB"
      },
      "execution_count": 57,
      "outputs": []
    },
    {
      "cell_type": "code",
      "source": [
        "#shuffle dataset here #_________TODO_________\n",
        "x_train, y_train = shuffle(x_train, y_train)\n",
        "x_test, y_test = shuffle(x_test, y_test)"
      ],
      "metadata": {
        "id": "kbxHLGE5L72H"
      },
      "execution_count": 58,
      "outputs": []
    },
    {
      "cell_type": "code",
      "source": [
        "#normalize your data #_________TODO_________\n",
        "x_train = x_train / 255.0\n",
        "x_test = x_test / 255.0"
      ],
      "metadata": {
        "id": "fDWTXaAAL9LE"
      },
      "execution_count": 59,
      "outputs": []
    },
    {
      "cell_type": "code",
      "source": [
        "#split your data #_________TODO_________\n",
        "x_train, x_val, y_train, y_val = train_test_split(x_train, y_train, test_size=0.2, random_state=42)"
      ],
      "metadata": {
        "id": "5kAFCt2JL-35"
      },
      "execution_count": 60,
      "outputs": []
    },
    {
      "cell_type": "code",
      "source": [
        "#define number of classes #_________TODO_________\n",
        "num_classes = 10;"
      ],
      "metadata": {
        "id": "IEb-lqQuMAaj"
      },
      "execution_count": 61,
      "outputs": []
    },
    {
      "cell_type": "code",
      "source": [
        "#one-hot encode the labels\n",
        "y_train_1hot = to_categorical(y_train, num_classes=10)\n",
        "y_test_1hot  = to_categorical(y_test, num_classes=10)\n",
        "y_val_1hot   = to_categorical(y_val, 10)\n",
        "\n",
        "print('1hot shapes: (train, test, val) :- ', y_train_1hot.shape,y_test_1hot.shape, y_val_1hot.shape)"
      ],
      "metadata": {
        "colab": {
          "base_uri": "https://localhost:8080/"
        },
        "id": "bClPnLEoMCLT",
        "outputId": "0319be45-326b-430d-a6b8-99f88c2789bc"
      },
      "execution_count": 62,
      "outputs": [
        {
          "output_type": "stream",
          "name": "stdout",
          "text": [
            "1hot shapes: (train, test, val) :-  (40000, 10) (10000, 10) (10000, 10)\n"
          ]
        }
      ]
    },
    {
      "cell_type": "code",
      "execution_count": 63,
      "metadata": {
        "id": "5UJmGh2cZSWz",
        "colab": {
          "base_uri": "https://localhost:8080/"
        },
        "outputId": "a3360f5c-9e82-42db-a3c2-1cc37fba0f3a"
      },
      "outputs": [
        {
          "output_type": "stream",
          "name": "stdout",
          "text": [
            "(32, 32, 3)\n"
          ]
        }
      ],
      "source": [
        "#Print the shape of the first image in the training set.\n",
        "#_________TODO___________\n",
        "print(x_train[0].shape)"
      ]
    },
    {
      "cell_type": "markdown",
      "metadata": {
        "id": "8c-qV-dxciNM"
      },
      "source": [
        "# Building the model\n",
        "\n",
        "\n",
        "\n"
      ]
    },
    {
      "cell_type": "markdown",
      "source": [
        "Implement the following steps:\n",
        "\n",
        "\n",
        "*   Build a keras Sequential model\n",
        "*\tAdd a **conv2D** layer with **32** output features, **3*3 kernel** , **relu** activation\n",
        "function and **input_shape=shape of your images** (width, hight, color channels).\n",
        "*\tAdd a **MaxPooling2D** layer with **2*2 kernel**.\n",
        "*\tAdd a **conv2D** layer with **64** output features, **3*3 kernel** and **relu** activation function.\n",
        "*\tAdd a **MaxPooling2D** layer with **2*2 kernel**.\n",
        "*\tAdd a **conv2D** layer with **128** output features, **3*3 kernel** and **relu** activation function.\n",
        "*\tAdd a **MaxPooling2D** layer with **2*2 kernel**.\n",
        "*\tAdd a **Flatten** layer.\n",
        "*\tAdd a **Dense** layer with **512** output features and relu activation function.\n",
        "*\tAdd your final Dense layer with number of **output features= number of classes** and Softmax activation function.\n",
        "\n",
        "After you built your model, you need to compile the model. Implement the following steps in your notebook in a new code cell:\n",
        "* Compile your model with **model.compile()** using **SGD** as your optimizer. **categorical_crossentropy** as your loss function and Accuracy as your metric.\n",
        "* Train your model with **model.fit()** with **15** epochs and store the results in a variable.\n",
        "\n",
        "You can view the Model Training Keras APIs [here](https://keras.io/api/models/model_training_apis/).\n",
        "\n"
      ],
      "metadata": {
        "id": "cdfp4GqtWikg"
      }
    },
    {
      "cell_type": "code",
      "execution_count": 64,
      "metadata": {
        "id": "y2apMTU_27p8",
        "colab": {
          "base_uri": "https://localhost:8080/"
        },
        "outputId": "850af284-7bd7-4685-fff8-73723151bd70"
      },
      "outputs": [
        {
          "output_type": "stream",
          "name": "stderr",
          "text": [
            "/usr/local/lib/python3.10/dist-packages/keras/src/layers/convolutional/base_conv.py:107: UserWarning: Do not pass an `input_shape`/`input_dim` argument to a layer. When using Sequential models, prefer using an `Input(shape)` object as the first layer in the model instead.\n",
            "  super().__init__(activity_regularizer=activity_regularizer, **kwargs)\n"
          ]
        }
      ],
      "source": [
        "model = keras.Sequential([\n",
        "    #add conv2D layer #_______TODO_______\n",
        "    layers.Conv2D(32, 3, activation='relu', input_shape=(32,32,3)),\n",
        "\n",
        "    #add maxpooling2D layer #_______TODO_______\n",
        "    layers.MaxPooling2D(pool_size=(2, 2)),\n",
        "\n",
        "    #add conv2D layer #_______TODO_______\n",
        "    layers.Conv2D(64, (3,3), activation='relu'),\n",
        "\n",
        "    #add maxpooling2D layer #_______TODO_______\n",
        "    layers.MaxPooling2D(pool_size=(2, 2)),\n",
        "\n",
        "    #add conv2D layer #_______TODO_______\n",
        "    layers.Conv2D(128, (3,3), activation='relu'),\n",
        "\n",
        "    #add maxpooling2D layer #_______TODO_______\n",
        "    layers.MaxPooling2D(pool_size=(2, 2)),\n",
        "\n",
        "    #add flatten layer #_______TODO_______\n",
        "    layers.Flatten(),\n",
        "\n",
        "    #add dense layer   #_______TODO_______\n",
        "    layers.Dense(512, activation='relu'),\n",
        "\n",
        "    #add dense layer   #_______TODO_______\n",
        "    layers.Dense(num_classes, activation='softmax')\n",
        "])"
      ]
    },
    {
      "cell_type": "code",
      "source": [
        "#compile model-> compile means to configure training in Keras API\n",
        "optimizer = keras.optimizers.SGD() # define SGD as your gradient descent algorithm\n",
        "model.compile(optimizer = optimizer,\n",
        "              loss = losses.SparseCategoricalCrossentropy(from_logits=True),\n",
        "              metrics = ['accuracy'])\n",
        "\n",
        "print(model.summary())"
      ],
      "metadata": {
        "colab": {
          "base_uri": "https://localhost:8080/",
          "height": 434
        },
        "id": "wQx3U6-b_kDQ",
        "outputId": "1b730235-4ee3-41c5-ab60-a72260500aee"
      },
      "execution_count": 65,
      "outputs": [
        {
          "output_type": "display_data",
          "data": {
            "text/plain": [
              "\u001b[1mModel: \"sequential_4\"\u001b[0m\n"
            ],
            "text/html": [
              "<pre style=\"white-space:pre;overflow-x:auto;line-height:normal;font-family:Menlo,'DejaVu Sans Mono',consolas,'Courier New',monospace\"><span style=\"font-weight: bold\">Model: \"sequential_4\"</span>\n",
              "</pre>\n"
            ]
          },
          "metadata": {}
        },
        {
          "output_type": "display_data",
          "data": {
            "text/plain": [
              "┏━━━━━━━━━━━━━━━━━━━━━━━━━━━━━━━━━━━━━━┳━━━━━━━━━━━━━━━━━━━━━━━━━━━━━┳━━━━━━━━━━━━━━━━━┓\n",
              "┃\u001b[1m \u001b[0m\u001b[1mLayer (type)                        \u001b[0m\u001b[1m \u001b[0m┃\u001b[1m \u001b[0m\u001b[1mOutput Shape               \u001b[0m\u001b[1m \u001b[0m┃\u001b[1m \u001b[0m\u001b[1m        Param #\u001b[0m\u001b[1m \u001b[0m┃\n",
              "┡━━━━━━━━━━━━━━━━━━━━━━━━━━━━━━━━━━━━━━╇━━━━━━━━━━━━━━━━━━━━━━━━━━━━━╇━━━━━━━━━━━━━━━━━┩\n",
              "│ conv2d_12 (\u001b[38;5;33mConv2D\u001b[0m)                   │ (\u001b[38;5;45mNone\u001b[0m, \u001b[38;5;34m30\u001b[0m, \u001b[38;5;34m30\u001b[0m, \u001b[38;5;34m32\u001b[0m)          │             \u001b[38;5;34m896\u001b[0m │\n",
              "├──────────────────────────────────────┼─────────────────────────────┼─────────────────┤\n",
              "│ max_pooling2d_12 (\u001b[38;5;33mMaxPooling2D\u001b[0m)      │ (\u001b[38;5;45mNone\u001b[0m, \u001b[38;5;34m15\u001b[0m, \u001b[38;5;34m15\u001b[0m, \u001b[38;5;34m32\u001b[0m)          │               \u001b[38;5;34m0\u001b[0m │\n",
              "├──────────────────────────────────────┼─────────────────────────────┼─────────────────┤\n",
              "│ conv2d_13 (\u001b[38;5;33mConv2D\u001b[0m)                   │ (\u001b[38;5;45mNone\u001b[0m, \u001b[38;5;34m13\u001b[0m, \u001b[38;5;34m13\u001b[0m, \u001b[38;5;34m64\u001b[0m)          │          \u001b[38;5;34m18,496\u001b[0m │\n",
              "├──────────────────────────────────────┼─────────────────────────────┼─────────────────┤\n",
              "│ max_pooling2d_13 (\u001b[38;5;33mMaxPooling2D\u001b[0m)      │ (\u001b[38;5;45mNone\u001b[0m, \u001b[38;5;34m6\u001b[0m, \u001b[38;5;34m6\u001b[0m, \u001b[38;5;34m64\u001b[0m)            │               \u001b[38;5;34m0\u001b[0m │\n",
              "├──────────────────────────────────────┼─────────────────────────────┼─────────────────┤\n",
              "│ conv2d_14 (\u001b[38;5;33mConv2D\u001b[0m)                   │ (\u001b[38;5;45mNone\u001b[0m, \u001b[38;5;34m4\u001b[0m, \u001b[38;5;34m4\u001b[0m, \u001b[38;5;34m128\u001b[0m)           │          \u001b[38;5;34m73,856\u001b[0m │\n",
              "├──────────────────────────────────────┼─────────────────────────────┼─────────────────┤\n",
              "│ max_pooling2d_14 (\u001b[38;5;33mMaxPooling2D\u001b[0m)      │ (\u001b[38;5;45mNone\u001b[0m, \u001b[38;5;34m2\u001b[0m, \u001b[38;5;34m2\u001b[0m, \u001b[38;5;34m128\u001b[0m)           │               \u001b[38;5;34m0\u001b[0m │\n",
              "├──────────────────────────────────────┼─────────────────────────────┼─────────────────┤\n",
              "│ flatten_4 (\u001b[38;5;33mFlatten\u001b[0m)                  │ (\u001b[38;5;45mNone\u001b[0m, \u001b[38;5;34m512\u001b[0m)                 │               \u001b[38;5;34m0\u001b[0m │\n",
              "├──────────────────────────────────────┼─────────────────────────────┼─────────────────┤\n",
              "│ dense_8 (\u001b[38;5;33mDense\u001b[0m)                      │ (\u001b[38;5;45mNone\u001b[0m, \u001b[38;5;34m512\u001b[0m)                 │         \u001b[38;5;34m262,656\u001b[0m │\n",
              "├──────────────────────────────────────┼─────────────────────────────┼─────────────────┤\n",
              "│ dense_9 (\u001b[38;5;33mDense\u001b[0m)                      │ (\u001b[38;5;45mNone\u001b[0m, \u001b[38;5;34m10\u001b[0m)                  │           \u001b[38;5;34m5,130\u001b[0m │\n",
              "└──────────────────────────────────────┴─────────────────────────────┴─────────────────┘\n"
            ],
            "text/html": [
              "<pre style=\"white-space:pre;overflow-x:auto;line-height:normal;font-family:Menlo,'DejaVu Sans Mono',consolas,'Courier New',monospace\">┏━━━━━━━━━━━━━━━━━━━━━━━━━━━━━━━━━━━━━━┳━━━━━━━━━━━━━━━━━━━━━━━━━━━━━┳━━━━━━━━━━━━━━━━━┓\n",
              "┃<span style=\"font-weight: bold\"> Layer (type)                         </span>┃<span style=\"font-weight: bold\"> Output Shape                </span>┃<span style=\"font-weight: bold\">         Param # </span>┃\n",
              "┡━━━━━━━━━━━━━━━━━━━━━━━━━━━━━━━━━━━━━━╇━━━━━━━━━━━━━━━━━━━━━━━━━━━━━╇━━━━━━━━━━━━━━━━━┩\n",
              "│ conv2d_12 (<span style=\"color: #0087ff; text-decoration-color: #0087ff\">Conv2D</span>)                   │ (<span style=\"color: #00d7ff; text-decoration-color: #00d7ff\">None</span>, <span style=\"color: #00af00; text-decoration-color: #00af00\">30</span>, <span style=\"color: #00af00; text-decoration-color: #00af00\">30</span>, <span style=\"color: #00af00; text-decoration-color: #00af00\">32</span>)          │             <span style=\"color: #00af00; text-decoration-color: #00af00\">896</span> │\n",
              "├──────────────────────────────────────┼─────────────────────────────┼─────────────────┤\n",
              "│ max_pooling2d_12 (<span style=\"color: #0087ff; text-decoration-color: #0087ff\">MaxPooling2D</span>)      │ (<span style=\"color: #00d7ff; text-decoration-color: #00d7ff\">None</span>, <span style=\"color: #00af00; text-decoration-color: #00af00\">15</span>, <span style=\"color: #00af00; text-decoration-color: #00af00\">15</span>, <span style=\"color: #00af00; text-decoration-color: #00af00\">32</span>)          │               <span style=\"color: #00af00; text-decoration-color: #00af00\">0</span> │\n",
              "├──────────────────────────────────────┼─────────────────────────────┼─────────────────┤\n",
              "│ conv2d_13 (<span style=\"color: #0087ff; text-decoration-color: #0087ff\">Conv2D</span>)                   │ (<span style=\"color: #00d7ff; text-decoration-color: #00d7ff\">None</span>, <span style=\"color: #00af00; text-decoration-color: #00af00\">13</span>, <span style=\"color: #00af00; text-decoration-color: #00af00\">13</span>, <span style=\"color: #00af00; text-decoration-color: #00af00\">64</span>)          │          <span style=\"color: #00af00; text-decoration-color: #00af00\">18,496</span> │\n",
              "├──────────────────────────────────────┼─────────────────────────────┼─────────────────┤\n",
              "│ max_pooling2d_13 (<span style=\"color: #0087ff; text-decoration-color: #0087ff\">MaxPooling2D</span>)      │ (<span style=\"color: #00d7ff; text-decoration-color: #00d7ff\">None</span>, <span style=\"color: #00af00; text-decoration-color: #00af00\">6</span>, <span style=\"color: #00af00; text-decoration-color: #00af00\">6</span>, <span style=\"color: #00af00; text-decoration-color: #00af00\">64</span>)            │               <span style=\"color: #00af00; text-decoration-color: #00af00\">0</span> │\n",
              "├──────────────────────────────────────┼─────────────────────────────┼─────────────────┤\n",
              "│ conv2d_14 (<span style=\"color: #0087ff; text-decoration-color: #0087ff\">Conv2D</span>)                   │ (<span style=\"color: #00d7ff; text-decoration-color: #00d7ff\">None</span>, <span style=\"color: #00af00; text-decoration-color: #00af00\">4</span>, <span style=\"color: #00af00; text-decoration-color: #00af00\">4</span>, <span style=\"color: #00af00; text-decoration-color: #00af00\">128</span>)           │          <span style=\"color: #00af00; text-decoration-color: #00af00\">73,856</span> │\n",
              "├──────────────────────────────────────┼─────────────────────────────┼─────────────────┤\n",
              "│ max_pooling2d_14 (<span style=\"color: #0087ff; text-decoration-color: #0087ff\">MaxPooling2D</span>)      │ (<span style=\"color: #00d7ff; text-decoration-color: #00d7ff\">None</span>, <span style=\"color: #00af00; text-decoration-color: #00af00\">2</span>, <span style=\"color: #00af00; text-decoration-color: #00af00\">2</span>, <span style=\"color: #00af00; text-decoration-color: #00af00\">128</span>)           │               <span style=\"color: #00af00; text-decoration-color: #00af00\">0</span> │\n",
              "├──────────────────────────────────────┼─────────────────────────────┼─────────────────┤\n",
              "│ flatten_4 (<span style=\"color: #0087ff; text-decoration-color: #0087ff\">Flatten</span>)                  │ (<span style=\"color: #00d7ff; text-decoration-color: #00d7ff\">None</span>, <span style=\"color: #00af00; text-decoration-color: #00af00\">512</span>)                 │               <span style=\"color: #00af00; text-decoration-color: #00af00\">0</span> │\n",
              "├──────────────────────────────────────┼─────────────────────────────┼─────────────────┤\n",
              "│ dense_8 (<span style=\"color: #0087ff; text-decoration-color: #0087ff\">Dense</span>)                      │ (<span style=\"color: #00d7ff; text-decoration-color: #00d7ff\">None</span>, <span style=\"color: #00af00; text-decoration-color: #00af00\">512</span>)                 │         <span style=\"color: #00af00; text-decoration-color: #00af00\">262,656</span> │\n",
              "├──────────────────────────────────────┼─────────────────────────────┼─────────────────┤\n",
              "│ dense_9 (<span style=\"color: #0087ff; text-decoration-color: #0087ff\">Dense</span>)                      │ (<span style=\"color: #00d7ff; text-decoration-color: #00d7ff\">None</span>, <span style=\"color: #00af00; text-decoration-color: #00af00\">10</span>)                  │           <span style=\"color: #00af00; text-decoration-color: #00af00\">5,130</span> │\n",
              "└──────────────────────────────────────┴─────────────────────────────┴─────────────────┘\n",
              "</pre>\n"
            ]
          },
          "metadata": {}
        },
        {
          "output_type": "display_data",
          "data": {
            "text/plain": [
              "\u001b[1m Total params: \u001b[0m\u001b[38;5;34m361,034\u001b[0m (1.38 MB)\n"
            ],
            "text/html": [
              "<pre style=\"white-space:pre;overflow-x:auto;line-height:normal;font-family:Menlo,'DejaVu Sans Mono',consolas,'Courier New',monospace\"><span style=\"font-weight: bold\"> Total params: </span><span style=\"color: #00af00; text-decoration-color: #00af00\">361,034</span> (1.38 MB)\n",
              "</pre>\n"
            ]
          },
          "metadata": {}
        },
        {
          "output_type": "display_data",
          "data": {
            "text/plain": [
              "\u001b[1m Trainable params: \u001b[0m\u001b[38;5;34m361,034\u001b[0m (1.38 MB)\n"
            ],
            "text/html": [
              "<pre style=\"white-space:pre;overflow-x:auto;line-height:normal;font-family:Menlo,'DejaVu Sans Mono',consolas,'Courier New',monospace\"><span style=\"font-weight: bold\"> Trainable params: </span><span style=\"color: #00af00; text-decoration-color: #00af00\">361,034</span> (1.38 MB)\n",
              "</pre>\n"
            ]
          },
          "metadata": {}
        },
        {
          "output_type": "display_data",
          "data": {
            "text/plain": [
              "\u001b[1m Non-trainable params: \u001b[0m\u001b[38;5;34m0\u001b[0m (0.00 B)\n"
            ],
            "text/html": [
              "<pre style=\"white-space:pre;overflow-x:auto;line-height:normal;font-family:Menlo,'DejaVu Sans Mono',consolas,'Courier New',monospace\"><span style=\"font-weight: bold\"> Non-trainable params: </span><span style=\"color: #00af00; text-decoration-color: #00af00\">0</span> (0.00 B)\n",
              "</pre>\n"
            ]
          },
          "metadata": {}
        },
        {
          "output_type": "stream",
          "name": "stdout",
          "text": [
            "None\n"
          ]
        }
      ]
    },
    {
      "cell_type": "markdown",
      "metadata": {
        "id": "kXAGET0Eckxr"
      },
      "source": [
        "# Training the model"
      ]
    },
    {
      "cell_type": "code",
      "execution_count": 66,
      "metadata": {
        "id": "rVx_xkbAJcdC",
        "colab": {
          "base_uri": "https://localhost:8080/"
        },
        "outputId": "ec5b9ce2-c105-4904-81d6-088cb321e6d8"
      },
      "outputs": [
        {
          "output_type": "stream",
          "name": "stdout",
          "text": [
            "Epoch 1/15\n"
          ]
        },
        {
          "output_type": "stream",
          "name": "stderr",
          "text": [
            "/usr/local/lib/python3.10/dist-packages/keras/src/backend/tensorflow/nn.py:609: UserWarning: \"`sparse_categorical_crossentropy` received `from_logits=True`, but the `output` argument was produced by a Softmax activation and thus does not represent logits. Was this intended?\n",
            "  output, from_logits = _get_logits(\n"
          ]
        },
        {
          "output_type": "stream",
          "name": "stdout",
          "text": [
            "\u001b[1m1250/1250\u001b[0m \u001b[32m━━━━━━━━━━━━━━━━━━━━\u001b[0m\u001b[37m\u001b[0m \u001b[1m70s\u001b[0m 56ms/step - accuracy: 0.1581 - loss: 2.2205 - val_accuracy: 0.2880 - val_loss: 1.9623\n",
            "Epoch 2/15\n",
            "\u001b[1m1250/1250\u001b[0m \u001b[32m━━━━━━━━━━━━━━━━━━━━\u001b[0m\u001b[37m\u001b[0m \u001b[1m83s\u001b[0m 56ms/step - accuracy: 0.3059 - loss: 1.9022 - val_accuracy: 0.3829 - val_loss: 1.7017\n",
            "Epoch 3/15\n",
            "\u001b[1m1250/1250\u001b[0m \u001b[32m━━━━━━━━━━━━━━━━━━━━\u001b[0m\u001b[37m\u001b[0m \u001b[1m101s\u001b[0m 72ms/step - accuracy: 0.3973 - loss: 1.6760 - val_accuracy: 0.4318 - val_loss: 1.5421\n",
            "Epoch 4/15\n",
            "\u001b[1m1250/1250\u001b[0m \u001b[32m━━━━━━━━━━━━━━━━━━━━\u001b[0m\u001b[37m\u001b[0m \u001b[1m132s\u001b[0m 64ms/step - accuracy: 0.4554 - loss: 1.5175 - val_accuracy: 0.4921 - val_loss: 1.4106\n",
            "Epoch 5/15\n",
            "\u001b[1m1250/1250\u001b[0m \u001b[32m━━━━━━━━━━━━━━━━━━━━\u001b[0m\u001b[37m\u001b[0m \u001b[1m69s\u001b[0m 55ms/step - accuracy: 0.4891 - loss: 1.4268 - val_accuracy: 0.5174 - val_loss: 1.3358\n",
            "Epoch 6/15\n",
            "\u001b[1m1250/1250\u001b[0m \u001b[32m━━━━━━━━━━━━━━━━━━━━\u001b[0m\u001b[37m\u001b[0m \u001b[1m68s\u001b[0m 54ms/step - accuracy: 0.5277 - loss: 1.3334 - val_accuracy: 0.5378 - val_loss: 1.3269\n",
            "Epoch 7/15\n",
            "\u001b[1m1250/1250\u001b[0m \u001b[32m━━━━━━━━━━━━━━━━━━━━\u001b[0m\u001b[37m\u001b[0m \u001b[1m84s\u001b[0m 55ms/step - accuracy: 0.5522 - loss: 1.2702 - val_accuracy: 0.5726 - val_loss: 1.2196\n",
            "Epoch 8/15\n",
            "\u001b[1m1250/1250\u001b[0m \u001b[32m━━━━━━━━━━━━━━━━━━━━\u001b[0m\u001b[37m\u001b[0m \u001b[1m80s\u001b[0m 54ms/step - accuracy: 0.5731 - loss: 1.2048 - val_accuracy: 0.5838 - val_loss: 1.1931\n",
            "Epoch 9/15\n",
            "\u001b[1m1250/1250\u001b[0m \u001b[32m━━━━━━━━━━━━━━━━━━━━\u001b[0m\u001b[37m\u001b[0m \u001b[1m70s\u001b[0m 56ms/step - accuracy: 0.5995 - loss: 1.1477 - val_accuracy: 0.6093 - val_loss: 1.1234\n",
            "Epoch 10/15\n",
            "\u001b[1m1250/1250\u001b[0m \u001b[32m━━━━━━━━━━━━━━━━━━━━\u001b[0m\u001b[37m\u001b[0m \u001b[1m79s\u001b[0m 54ms/step - accuracy: 0.6156 - loss: 1.0981 - val_accuracy: 0.6172 - val_loss: 1.1172\n",
            "Epoch 11/15\n",
            "\u001b[1m1250/1250\u001b[0m \u001b[32m━━━━━━━━━━━━━━━━━━━━\u001b[0m\u001b[37m\u001b[0m \u001b[1m94s\u001b[0m 63ms/step - accuracy: 0.6384 - loss: 1.0431 - val_accuracy: 0.6288 - val_loss: 1.0662\n",
            "Epoch 12/15\n",
            "\u001b[1m1250/1250\u001b[0m \u001b[32m━━━━━━━━━━━━━━━━━━━━\u001b[0m\u001b[37m\u001b[0m \u001b[1m70s\u001b[0m 54ms/step - accuracy: 0.6458 - loss: 1.0139 - val_accuracy: 0.6405 - val_loss: 1.0543\n",
            "Epoch 13/15\n",
            "\u001b[1m1250/1250\u001b[0m \u001b[32m━━━━━━━━━━━━━━━━━━━━\u001b[0m\u001b[37m\u001b[0m \u001b[1m84s\u001b[0m 56ms/step - accuracy: 0.6666 - loss: 0.9587 - val_accuracy: 0.6446 - val_loss: 1.0334\n",
            "Epoch 14/15\n",
            "\u001b[1m1250/1250\u001b[0m \u001b[32m━━━━━━━━━━━━━━━━━━━━\u001b[0m\u001b[37m\u001b[0m \u001b[1m80s\u001b[0m 55ms/step - accuracy: 0.6798 - loss: 0.9304 - val_accuracy: 0.6499 - val_loss: 1.0050\n",
            "Epoch 15/15\n",
            "\u001b[1m1250/1250\u001b[0m \u001b[32m━━━━━━━━━━━━━━━━━━━━\u001b[0m\u001b[37m\u001b[0m \u001b[1m84s\u001b[0m 57ms/step - accuracy: 0.6924 - loss: 0.8858 - val_accuracy: 0.6663 - val_loss: 0.9778\n"
          ]
        }
      ],
      "source": [
        "#train the model #_______TODO_______\n",
        "trained_model = model.fit(\n",
        "    x_train, y_train,\n",
        "    epochs=15,\n",
        "    validation_data=(x_val, y_val)\n",
        ")"
      ]
    },
    {
      "cell_type": "markdown",
      "metadata": {
        "id": "lu4EBtP5cq95"
      },
      "source": [
        "# Evaluate the model"
      ]
    },
    {
      "cell_type": "markdown",
      "metadata": {
        "id": "_OXFUDgV8JLG"
      },
      "source": [
        "Implement the following steps:\n",
        "* Plot training and validation loss of your model (1 plot)\n",
        "*\tPlot training and validation accuracy of your model (1 plot)\n",
        "*\tPrint loss and accuracy of your model using **model.evaluate()**\n",
        "*\tPlot your confusion matrix"
      ]
    },
    {
      "cell_type": "code",
      "execution_count": 67,
      "metadata": {
        "id": "c915st44J-Wh",
        "colab": {
          "base_uri": "https://localhost:8080/",
          "height": 564
        },
        "outputId": "99594f11-ce0c-4430-e0e5-8b754db751f3"
      },
      "outputs": [
        {
          "output_type": "display_data",
          "data": {
            "text/plain": [
              "<Figure size 1000x600 with 1 Axes>"
            ],
            "image/png": "[encoded data removed]"
          },
          "metadata": {}
        }
      ],
      "source": [
        "#plot loss using plt.plot() and plt.legend() #_______TODO_______\n",
        "train_loss = trained_model.history['loss']\n",
        "val_loss = trained_model.history['val_loss']\n",
        "epochs = range(1, len(train_loss) + 1)\n",
        "plt.figure(figsize=(10, 6))\n",
        "plt.plot(epochs, train_loss, 'b-', label='Training Loss')\n",
        "plt.plot(epochs, val_loss, 'r-', label='Validation Loss')\n",
        "plt.title('Training and Validation Loss')\n",
        "plt.xlabel('Epochs')\n",
        "plt.ylabel('Loss')\n",
        "plt.legend()\n",
        "plt.show()"
      ]
    },
    {
      "cell_type": "code",
      "execution_count": 68,
      "metadata": {
        "id": "l3YaoEooKiTW",
        "colab": {
          "base_uri": "https://localhost:8080/",
          "height": 564
        },
        "outputId": "666af3c3-a09f-46f5-f704-f5b2c410b718"
      },
      "outputs": [
        {
          "output_type": "display_data",
          "data": {
            "text/plain": [
              "<Figure size 1000x600 with 1 Axes>"
            ],
            "image/png": "[encoded data removed]"
          },
          "metadata": {}
        }
      ],
      "source": [
        "#plot accuracy using plt.plot() and plt.legend() #_______TODO_______\n",
        "train_acc = trained_model.history['accuracy']\n",
        "val_acc = trained_model.history['val_accuracy']\n",
        "epochs = range(1, len(train_loss) + 1)\n",
        "plt.figure(figsize=(10, 6))\n",
        "plt.plot(epochs, train_acc, 'b-', label='Training Accuracy')\n",
        "plt.plot(epochs, val_acc, 'r-', label='Validation Accuracy')\n",
        "plt.title('Training and Validation Accuracy')\n",
        "plt.xlabel('Epochs')\n",
        "plt.ylabel('Accuracy')\n",
        "plt.legend()\n",
        "plt.show()"
      ]
    },
    {
      "cell_type": "code",
      "execution_count": null,
      "metadata": {
        "id": "jpmv62JbK-J_"
      },
      "outputs": [],
      "source": [
        "#evaluate using model.evaluate() #_______TODO_______\n",
        "print(\"Evaluate on test data\")\n",
        "results = trained_model.evaluate(x_test, y_test, batch_size=128)\n",
        "print(\"test loss, test acc:\", results)"
      ]
    },
    {
      "cell_type": "code",
      "execution_count": null,
      "metadata": {
        "id": "ofijYJUvLGhs"
      },
      "outputs": [],
      "source": [
        "#confusion matrix\n",
        "def plot_confusion_matrix(cm, classes,\n",
        "                          normalize=False,\n",
        "                          title='Confusion matrix',\n",
        "                          cmap=plt.cm.Blues):\n",
        "\n",
        "  if normalize:\n",
        "      cm = cm.astype('float') / cm.sum(axis=1)[:, np.newaxis]\n",
        "      print(\"Normalized confusion matrix\")\n",
        "  else:\n",
        "      print('Confusion matrix, without normalization')\n",
        "\n",
        "  print(cm)\n",
        "\n",
        "  plt.imshow(cm, interpolation='nearest', cmap=cmap)\n",
        "  plt.title(title)\n",
        "  plt.colorbar()\n",
        "  tick_marks = np.arange(len(classes))\n",
        "  plt.xticks(tick_marks, classes, rotation=45)\n",
        "  plt.yticks(tick_marks, classes)\n",
        "\n",
        "  fmt = '.2f' if normalize else 'd'\n",
        "  thresh = cm.max() / 2.\n",
        "  for i, j in itertools.product(range(cm.shape[0]), range(cm.shape[1])):\n",
        "      plt.text(j, i, format(cm[i, j], fmt),\n",
        "               horizontalalignment=\"center\",\n",
        "               color=\"white\" if cm[i, j] > thresh else \"black\")\n",
        "\n",
        "  plt.tight_layout()\n",
        "  plt.ylabel('True label')\n",
        "  plt.xlabel('Predicted label')\n",
        "  plt.show()\n",
        "\n",
        "\n",
        "#plot the CM\n",
        "p_test= model.predict(x_test).argmax(axis=1)\n",
        "cm = confusion_matrix(y_test, p_test)\n",
        "labels = ['airplane', 'automobile', 'bird', 'cat', 'deer',\n",
        "               'dog', 'frog', 'horse', 'ship', 'truck']\n",
        "plot_confusion_matrix(cm,classes=labels)"
      ]
    },
    {
      "cell_type": "markdown",
      "source": [
        "## Questions: Part 1\n",
        "Once you finish coding answer these questions here in red font:\n",
        "\n",
        "* How is the performance of your model based on the validation set and plots?\n",
        "\n",
        "<font color='red' size=4>\n",
        "Answer here\n",
        "</font>\n",
        "\n",
        "* Where is the highest inaccuracy of your model in the confusion matrix? Which labels your model confuses the most? Why do you think it happens?\n",
        "\n",
        "<font color='red' size=4>\n",
        "Answer here\n",
        "</font>\n",
        "\n",
        "* Report loss and accuracy of your model using model.evaluate() on the test set (write the numbers here because we are going to modify the code in the next sections).\n",
        "\n",
        "<font color='red' size=4>\n",
        "Answer here\n",
        "</font>\n",
        "\n",
        "\n",
        "* Report on how it compares to the performance of the model using your training and validation sets.\n",
        "\n",
        "<font color='red' size=4>\n",
        "Answer here\n",
        "</font>\n",
        "\n"
      ],
      "metadata": {
        "id": "ekSUF2-lYL3y"
      }
    },
    {
      "cell_type": "markdown",
      "source": [
        "# Model improvement"
      ],
      "metadata": {
        "id": "A7XYNg8aYkqS"
      }
    },
    {
      "cell_type": "markdown",
      "source": [
        "Now we want to improve the performance of the classifer by tunning hyperparameters and modifying the model architecture. We will use multiple approaches for this purpose:\n",
        "\n",
        "\n",
        "**1. Adding more Convolutional layers**:\n",
        "\n",
        "*  \tAfter each **Conv2D** layer add another **Conv2D** layer with the same parameters as the layer above so that you have 3 pairs of identical layers in sequence\n",
        "\n",
        "\n",
        "**2. Padding:**\n",
        "\n",
        "the convolutional layers reduce the size of the output. So in cases where we want to increase the size of the output and save the information presented in the corners we can use padding layers where padding helps by adding extra rows and columns on the outer dimension of the images. So the size of input data will remain similar to the output data.\n",
        "\n",
        "There are three types of padding: Same padding, Causal padding, and Valid padding\n",
        "\n",
        "* Add **padding=’same’** to each of your Conv2D layer\n",
        "\n",
        "**3. Batch Normalization layer**\n",
        "\n",
        "Batch normalization is a technique for training very deep neural networks that standardizes the inputs to a layer for each mini-batch. This has the effect of stabilizing the learning process and dramatically reducing the number of training epochs required to train deep networks. Batch normalization prevents our NN from exploding gradient issue, and additionally to reduce overfitting.\n",
        "* add a **BatchNormalization** layer after each Conv2D layer and the first Dense layer\n",
        "\n",
        "**4. Dropout layer:**\n",
        "\n",
        "By adding a dropout layer, you will drop out the nodes (input and hidden layer) in your neural network. All the forward and backwards connections with a dropped node are temporarily removed, thus creating a new network architecture out of the parent network. The nodes are dropped by a dropout probability of **p**. The dropout allows our NN to become weight-independent during the training process by randomly dropping weights in a chosen layer.\n",
        "* After each **Maxpooling** add a **Dropout layer** with the values of **p=0.2**, **p=0.3** and **p=0.4** respectively.\n",
        "* After your **Flatten layer**, add a **Dropout layer** with **p=0.2** chance.\n",
        "*   Add another dropout layer with **p=0.2** after your first **Dense layer**.\n",
        "\n",
        "**5. Learning rate:**\n",
        "\n",
        "The learning rate is a hyperparameter that controls how much to change the model in response to the estimated error each time the model weights are updated. Choosing the learning rate is challenging as a value too small may result in a long training process that could get stuck, whereas a value too large may result in learning a sub-optimal set of weights too fast or an unstable training process.\n",
        "\n",
        "* Change your optimizer to **Adam** with **learning rate= 0.001**.\n",
        "* set your **batch_size** to **128**.\n",
        "\n",
        "* Now train your model again.\n",
        "\n",
        "\n",
        "\n",
        "\n",
        "\n"
      ],
      "metadata": {
        "id": "DYzNcXebYxGi"
      }
    },
    {
      "cell_type": "code",
      "source": [
        "# write your code for updated model here"
      ],
      "metadata": {
        "id": "TbeOfi4Pmfh2"
      },
      "execution_count": null,
      "outputs": []
    },
    {
      "cell_type": "markdown",
      "source": [
        "## Questions: Part 2\n",
        "\n",
        "* Report loss and accuracy of your model using model.evaluate() on the test set.\n",
        "* Report on how it compares to the performance of the model using your training and validation sets.\n",
        "\n",
        "<font color='red' size=4>\n",
        "Answer here\n",
        "</font>\n",
        "\n",
        "\n",
        "\n"
      ],
      "metadata": {
        "id": "HYBMuuUyfyPI"
      }
    },
    {
      "cell_type": "markdown",
      "source": [
        "## Missclassified Data\n",
        "We are going to print out some of the missclassified data and check them visually"
      ],
      "metadata": {
        "id": "4NFNHZSNR-Ld"
      }
    },
    {
      "cell_type": "code",
      "execution_count": null,
      "metadata": {
        "id": "a7zQ2TLBNjxC"
      },
      "outputs": [],
      "source": [
        "\"\"\"check some missclassified images\"\"\"\n",
        "misclassified_idx = [i for i, (x, y) in enumerate(zip(y_test, p_test)) if x != y]\n",
        "plt.figure(figsize=(12,6))\n",
        "plt.subplot(1, 3, 1)\n",
        "i = np.random.choice(misclassified_idx)\n",
        "plt.imshow(x_test[i], cmap='gray')\n",
        "plt.title(\"True label: %s , Predicted : %s\"%(labels[int(y_test[i])], labels[int(p_test[i])]))\n",
        "plt.subplot(1, 3, 2)\n",
        "i = np.random.choice(misclassified_idx)\n",
        "plt.imshow(x_test[i], cmap='gray')\n",
        "plt.title(\"True label: %s , Predicted : %s\"%(labels[int(y_test[i])], labels[int(p_test[i])]))\n",
        "plt.subplot(1, 3, 3)\n",
        "i = np.random.choice(misclassified_idx)\n",
        "plt.imshow(x_test[i], cmap='gray')\n",
        "plt.title(\"True label: %s , Predicted : %s\"%(labels[int(y_test[i])], labels[int(p_test[i])]))\n",
        "\n"
      ]
    },
    {
      "cell_type": "markdown",
      "source": [
        "## Questions: Part 3\n",
        "*\tPrint some of the misclassified images. Why do you think they were misclassified?\n",
        "\n",
        "<font color='red' size=4>\n",
        "Answer here\n",
        "</font>\n",
        "\n",
        "*\tSuggest 2 methods (other than what we saw on this notebook) that you can use to improve the performance of the classifier\n",
        "\n",
        "<font color='red' size=4>\n",
        "Answer here\n",
        "</font>"
      ],
      "metadata": {
        "id": "B-tppO8zgNks"
      }
    },
    {
      "cell_type": "markdown",
      "source": [
        "# Deliverable\n",
        "You should submit your Colab notebook in `.ipynb` format on LMS containing your code implementations in **EXECUTED** code cells (thus, showing the output of the cell), and include the answers to the questions of this notebook in the dedicated code cells (using red text).\n"
      ],
      "metadata": {
        "id": "FlDLIoyFhFFd"
      }
    }
  ],
  "metadata": {
    "colab": {
      "provenance": [],
      "include_colab_link": true
    },
    "kernelspec": {
      "display_name": "Python 3",
      "name": "python3"
    },
    "language_info": {
      "name": "python"
    }
  },
  "nbformat": 4,
  "nbformat_minor": 0
}